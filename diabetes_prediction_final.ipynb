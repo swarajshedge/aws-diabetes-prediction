{
 "cells": [
  {
   "cell_type": "markdown",
   "id": "c8991c57",
   "metadata": {},
   "source": [
    "**Diabetes_012**: 0 = no diabetes 1 = prediabetes \n",
    "\n",
    "**HighBP**:0 = no high BP 1 = high BP\n",
    "\n",
    "**HighChol**: 0 = no high cholesterol 1 = high cholesterol\n",
    "\n",
    "**CholCheck**: 0 = no cholesterol check in 5 years 1 = yes cholesterol check in 5 years\n",
    "\n",
    "**BMI**:Body Mass Index\n",
    "\n",
    "**Smoker**: Have you smoked at least 100 cigarettes in your entire life? [Note: 5 packs = 100 cigarettes] 0 = no 1 = yes\n",
    "\n",
    "**Stroke**: (Ever told) you had a stroke. 0 = no 1 = yes\n",
    "\n",
    "**HeartDiseaseorAttack**: coronary heart disease (CHD) or myocardial infarction (MI) 0 = no 1 = yes\n",
    "\n",
    "**PhysActivity**: physical activity in past 30 days - not including job 0 = no 1 = yes\n",
    "\n",
    "**Fruits**:Consume Fruit 1 or more times per day 0 = no 1 = yes\n",
    "\n",
    "**Veggies**: Consume Vegetables 1 or more times per day 0 = no 1 = yes\n",
    "\n",
    "**HvyAlcoholConsump**: Heavy drinkers (adult men having more than 14 drinks per week and adult women having more than 7 drinks per week) 0 = no, 1 = yes\n",
    "\n",
    "**AnyHealthcare**: Have any kind of health care coverage, including health insurance, prepaid plans such as HMO, etc. 0 = no 1 = yes\n",
    "\n",
    "**NoDocbcCost**: Was there a time in the past 12 months when you needed to see a doctor but could not because of cost? 0 = no 1 = yes\n",
    "\n",
    "**GenHlth**: Would you say that in general your health is: scale 1-5 1 = excellent 2 = very good 3 = good 4 = fair 5 = poor\n",
    "\n",
    "**MentHlth**: 0-30, Now thinking about your mental health, which includes stress, depression, and problems with emotions, for how may days during the past 30 days did you feel these emotions\n",
    "\n",
    "**PhysHlth**:0-30, Now thinking about your physical health, which includes physical illness and injury, for how many days during the past 30 days were you ill or injured? \n",
    "\n",
    "**DiffWalk**: Do you have serious difficulty walking or climbing stairs? 0 = no 1 = yes\n",
    "\n",
    "**Sex**: 0 = female 1 = male\n",
    "\n",
    "**Age**:13-level age category, 1 = 18-24, 2 = 25-29, 3 = 30-34, 4 = 35-39, 5 = 40-44, 6 = 45-49, 7 = 50-54, 8 = 55-59, 6 = 60-64, 7 = 65-69, 8 = 70-74, 9 = 75-79, 10 = 80-84, 11 = 85-89, 12 = 90-95 13 = 95 or older\n",
    "\n",
    "**Education**: Education level, scale 1-6 1 = Never attended school or only kindergarten 2 = primary school, 3 = middle school, 4 = high school, 5 = Bachelor, 6= Master and + \n",
    "\n",
    "**Income**: Income scale  scale 1-8 1 = less than $20,000, 2 = $20,000-$29,999, 3= $30,000-$39,999, 4= $40,000-$49,999, 5= $50,000-$59,999, 6 = $60,000-$69,999, 7 = $70,000-$79,999, 8= $80,000-$89,999"
   ]
  },
  {
   "cell_type": "markdown",
   "id": "17f9671f",
   "metadata": {},
   "source": [
    "**Library**\n",
    "\n",
    "Import the necessary library "
   ]
  },
  {
   "cell_type": "code",
   "execution_count": 3,
   "id": "30ebfdb7",
   "metadata": {},
   "outputs": [
    {
     "ename": "ModuleNotFoundError",
     "evalue": "No module named 'sagemaker'",
     "output_type": "error",
     "traceback": [
      "\u001b[0;31m---------------------------------------------------------------------------\u001b[0m",
      "\u001b[0;31mModuleNotFoundError\u001b[0m                       Traceback (most recent call last)",
      "File \u001b[0;32m<timed exec>:3\u001b[0m, in \u001b[0;36m<module>\u001b[0;34m\u001b[0m\n",
      "\u001b[0;31mModuleNotFoundError\u001b[0m: No module named 'sagemaker'"
     ]
    }
   ],
   "source": [
    "%%time \n",
    "import boto3 \n",
    "import os \n",
    "import sagemaker\n",
    "from sagemaker.xgboost.estimator import XGBoost \n",
    "from sagemaker.session import Session \n",
    "from sagemaker.inputs import TrainingInput \n",
    "import pandas as pd \n",
    "import sklearn as sk \n",
    "import numpy as np \n",
    "import sagemaker as sg \n",
    "import matplotlib as mt \n",
    "from sklearn.model_selection import train_test_split\n",
    "import re \n",
    "import urllib.request\n",
    "from sklearn. datasets import load_svmlight_file"
   ]
  },
  {
   "cell_type": "markdown",
   "id": "2256b974",
   "metadata": {},
   "source": [
    "**Importing the dataset**\n",
    "\n",
    "Loading the dataset named \"diabetes_binary.csv\" from S3 bucket called \"diabetes-prediction-b12\""
   ]
  },
  {
   "cell_type": "code",
   "execution_count": 3,
   "id": "bd3e01bb",
   "metadata": {},
   "outputs": [],
   "source": [
    "from sagemaker import get_execution_role\n",
    "\n",
    "role = get_execution_role()\n",
    "bucket='diabetes-prediction-b12'\n",
    "data_key = 'diabetes_binary.csv'\n",
    "data_location = 's3://diabetes-prediction-b12/input_data/diabetes_binary.csv'.format(bucket, data_key)\n",
    "\n",
    "df = pd.read_csv(data_location)\n"
   ]
  },
  {
   "cell_type": "markdown",
   "id": "e28ca4b9",
   "metadata": {},
   "source": [
    "drop the first column that is a repeated index column "
   ]
  },
  {
   "cell_type": "code",
   "execution_count": 4,
   "id": "4bae2d15",
   "metadata": {},
   "outputs": [],
   "source": [
    "df = df.drop(df.columns[0], axis=1)"
   ]
  },
  {
   "cell_type": "markdown",
   "id": "c5643a48",
   "metadata": {},
   "source": [
    "Check the dataset"
   ]
  },
  {
   "cell_type": "code",
   "execution_count": 5,
   "id": "9240cca3",
   "metadata": {},
   "outputs": [
    {
     "data": {
      "text/html": [
       "<div>\n",
       "<style scoped>\n",
       "    .dataframe tbody tr th:only-of-type {\n",
       "        vertical-align: middle;\n",
       "    }\n",
       "\n",
       "    .dataframe tbody tr th {\n",
       "        vertical-align: top;\n",
       "    }\n",
       "\n",
       "    .dataframe thead th {\n",
       "        text-align: right;\n",
       "    }\n",
       "</style>\n",
       "<table border=\"1\" class=\"dataframe\">\n",
       "  <thead>\n",
       "    <tr style=\"text-align: right;\">\n",
       "      <th></th>\n",
       "      <th>Diabetes_012</th>\n",
       "      <th>HighBP</th>\n",
       "      <th>HighChol</th>\n",
       "      <th>CholCheck</th>\n",
       "      <th>BMI</th>\n",
       "      <th>Smoker</th>\n",
       "      <th>Stroke</th>\n",
       "      <th>HeartDiseaseorAttack</th>\n",
       "      <th>PhysActivity</th>\n",
       "      <th>Fruits</th>\n",
       "      <th>...</th>\n",
       "      <th>AnyHealthcare</th>\n",
       "      <th>NoDocbcCost</th>\n",
       "      <th>GenHlth</th>\n",
       "      <th>MentHlth</th>\n",
       "      <th>PhysHlth</th>\n",
       "      <th>DiffWalk</th>\n",
       "      <th>Sex</th>\n",
       "      <th>Age</th>\n",
       "      <th>Education</th>\n",
       "      <th>Income</th>\n",
       "    </tr>\n",
       "  </thead>\n",
       "  <tbody>\n",
       "    <tr>\n",
       "      <th>0</th>\n",
       "      <td>0.0</td>\n",
       "      <td>0.0</td>\n",
       "      <td>0.0</td>\n",
       "      <td>0.0</td>\n",
       "      <td>25.0</td>\n",
       "      <td>1.0</td>\n",
       "      <td>0.0</td>\n",
       "      <td>0.0</td>\n",
       "      <td>1.0</td>\n",
       "      <td>0.0</td>\n",
       "      <td>...</td>\n",
       "      <td>0.0</td>\n",
       "      <td>1.0</td>\n",
       "      <td>3.0</td>\n",
       "      <td>0.0</td>\n",
       "      <td>0.0</td>\n",
       "      <td>0.0</td>\n",
       "      <td>0.0</td>\n",
       "      <td>7.0</td>\n",
       "      <td>6.0</td>\n",
       "      <td>1.0</td>\n",
       "    </tr>\n",
       "    <tr>\n",
       "      <th>1</th>\n",
       "      <td>0.0</td>\n",
       "      <td>1.0</td>\n",
       "      <td>0.0</td>\n",
       "      <td>1.0</td>\n",
       "      <td>27.0</td>\n",
       "      <td>0.0</td>\n",
       "      <td>0.0</td>\n",
       "      <td>0.0</td>\n",
       "      <td>1.0</td>\n",
       "      <td>1.0</td>\n",
       "      <td>...</td>\n",
       "      <td>1.0</td>\n",
       "      <td>0.0</td>\n",
       "      <td>2.0</td>\n",
       "      <td>0.0</td>\n",
       "      <td>0.0</td>\n",
       "      <td>0.0</td>\n",
       "      <td>0.0</td>\n",
       "      <td>11.0</td>\n",
       "      <td>3.0</td>\n",
       "      <td>6.0</td>\n",
       "    </tr>\n",
       "    <tr>\n",
       "      <th>2</th>\n",
       "      <td>0.0</td>\n",
       "      <td>1.0</td>\n",
       "      <td>1.0</td>\n",
       "      <td>1.0</td>\n",
       "      <td>24.0</td>\n",
       "      <td>0.0</td>\n",
       "      <td>0.0</td>\n",
       "      <td>0.0</td>\n",
       "      <td>1.0</td>\n",
       "      <td>1.0</td>\n",
       "      <td>...</td>\n",
       "      <td>1.0</td>\n",
       "      <td>0.0</td>\n",
       "      <td>2.0</td>\n",
       "      <td>3.0</td>\n",
       "      <td>0.0</td>\n",
       "      <td>0.0</td>\n",
       "      <td>0.0</td>\n",
       "      <td>11.0</td>\n",
       "      <td>5.0</td>\n",
       "      <td>4.0</td>\n",
       "    </tr>\n",
       "    <tr>\n",
       "      <th>3</th>\n",
       "      <td>0.0</td>\n",
       "      <td>1.0</td>\n",
       "      <td>1.0</td>\n",
       "      <td>1.0</td>\n",
       "      <td>25.0</td>\n",
       "      <td>1.0</td>\n",
       "      <td>0.0</td>\n",
       "      <td>0.0</td>\n",
       "      <td>1.0</td>\n",
       "      <td>1.0</td>\n",
       "      <td>...</td>\n",
       "      <td>1.0</td>\n",
       "      <td>0.0</td>\n",
       "      <td>2.0</td>\n",
       "      <td>0.0</td>\n",
       "      <td>2.0</td>\n",
       "      <td>0.0</td>\n",
       "      <td>1.0</td>\n",
       "      <td>10.0</td>\n",
       "      <td>6.0</td>\n",
       "      <td>8.0</td>\n",
       "    </tr>\n",
       "    <tr>\n",
       "      <th>4</th>\n",
       "      <td>0.0</td>\n",
       "      <td>1.0</td>\n",
       "      <td>0.0</td>\n",
       "      <td>1.0</td>\n",
       "      <td>30.0</td>\n",
       "      <td>1.0</td>\n",
       "      <td>0.0</td>\n",
       "      <td>0.0</td>\n",
       "      <td>0.0</td>\n",
       "      <td>0.0</td>\n",
       "      <td>...</td>\n",
       "      <td>1.0</td>\n",
       "      <td>0.0</td>\n",
       "      <td>3.0</td>\n",
       "      <td>0.0</td>\n",
       "      <td>14.0</td>\n",
       "      <td>0.0</td>\n",
       "      <td>0.0</td>\n",
       "      <td>9.0</td>\n",
       "      <td>6.0</td>\n",
       "      <td>7.0</td>\n",
       "    </tr>\n",
       "  </tbody>\n",
       "</table>\n",
       "<p>5 rows × 22 columns</p>\n",
       "</div>"
      ],
      "text/plain": [
       "   Diabetes_012  HighBP  HighChol  CholCheck   BMI  Smoker  Stroke  \\\n",
       "0           0.0     0.0       0.0        0.0  25.0     1.0     0.0   \n",
       "1           0.0     1.0       0.0        1.0  27.0     0.0     0.0   \n",
       "2           0.0     1.0       1.0        1.0  24.0     0.0     0.0   \n",
       "3           0.0     1.0       1.0        1.0  25.0     1.0     0.0   \n",
       "4           0.0     1.0       0.0        1.0  30.0     1.0     0.0   \n",
       "\n",
       "   HeartDiseaseorAttack  PhysActivity  Fruits  ...  AnyHealthcare  \\\n",
       "0                   0.0           1.0     0.0  ...            0.0   \n",
       "1                   0.0           1.0     1.0  ...            1.0   \n",
       "2                   0.0           1.0     1.0  ...            1.0   \n",
       "3                   0.0           1.0     1.0  ...            1.0   \n",
       "4                   0.0           0.0     0.0  ...            1.0   \n",
       "\n",
       "   NoDocbcCost  GenHlth  MentHlth  PhysHlth  DiffWalk  Sex   Age  Education  \\\n",
       "0          1.0      3.0       0.0       0.0       0.0  0.0   7.0        6.0   \n",
       "1          0.0      2.0       0.0       0.0       0.0  0.0  11.0        3.0   \n",
       "2          0.0      2.0       3.0       0.0       0.0  0.0  11.0        5.0   \n",
       "3          0.0      2.0       0.0       2.0       0.0  1.0  10.0        6.0   \n",
       "4          0.0      3.0       0.0      14.0       0.0  0.0   9.0        6.0   \n",
       "\n",
       "   Income  \n",
       "0     1.0  \n",
       "1     6.0  \n",
       "2     4.0  \n",
       "3     8.0  \n",
       "4     7.0  \n",
       "\n",
       "[5 rows x 22 columns]"
      ]
     },
     "execution_count": 5,
     "metadata": {},
     "output_type": "execute_result"
    }
   ],
   "source": [
    "df.head()\n"
   ]
  },
  {
   "cell_type": "markdown",
   "id": "0bd3d2fe",
   "metadata": {},
   "source": [
    "**Fine tuning**\n",
    "\n",
    "We initially got a recall of 50%, but we would like to increase this result. One possible way was to balance the dataset as the original target variable was highly imbalance "
   ]
  },
  {
   "cell_type": "code",
   "execution_count": 6,
   "id": "2c7ae1b2",
   "metadata": {},
   "outputs": [],
   "source": [
    "\n",
    "# Get the indices of the rows where Diabetes equals 0\n",
    "index_names = df[df['Diabetes_012'] == 0].sample(n=100000, random_state=42).index\n",
    "\n",
    "# Drop those rows from the dataset\n",
    "df.drop(index_names, inplace=True)"
   ]
  },
  {
   "cell_type": "code",
   "execution_count": 7,
   "id": "9116a51e",
   "metadata": {},
   "outputs": [
    {
     "data": {
      "text/html": [
       "<div>\n",
       "<style scoped>\n",
       "    .dataframe tbody tr th:only-of-type {\n",
       "        vertical-align: middle;\n",
       "    }\n",
       "\n",
       "    .dataframe tbody tr th {\n",
       "        vertical-align: top;\n",
       "    }\n",
       "\n",
       "    .dataframe thead th {\n",
       "        text-align: right;\n",
       "    }\n",
       "</style>\n",
       "<table border=\"1\" class=\"dataframe\">\n",
       "  <thead>\n",
       "    <tr style=\"text-align: right;\">\n",
       "      <th></th>\n",
       "      <th>Diabetes_012</th>\n",
       "      <th>HighBP</th>\n",
       "      <th>HighChol</th>\n",
       "      <th>CholCheck</th>\n",
       "      <th>BMI</th>\n",
       "      <th>Smoker</th>\n",
       "      <th>Stroke</th>\n",
       "      <th>HeartDiseaseorAttack</th>\n",
       "      <th>PhysActivity</th>\n",
       "      <th>Fruits</th>\n",
       "      <th>...</th>\n",
       "      <th>AnyHealthcare</th>\n",
       "      <th>NoDocbcCost</th>\n",
       "      <th>GenHlth</th>\n",
       "      <th>MentHlth</th>\n",
       "      <th>PhysHlth</th>\n",
       "      <th>DiffWalk</th>\n",
       "      <th>Sex</th>\n",
       "      <th>Age</th>\n",
       "      <th>Education</th>\n",
       "      <th>Income</th>\n",
       "    </tr>\n",
       "  </thead>\n",
       "  <tbody>\n",
       "    <tr>\n",
       "      <th>1</th>\n",
       "      <td>0.0</td>\n",
       "      <td>1.0</td>\n",
       "      <td>0.0</td>\n",
       "      <td>1.0</td>\n",
       "      <td>27.0</td>\n",
       "      <td>0.0</td>\n",
       "      <td>0.0</td>\n",
       "      <td>0.0</td>\n",
       "      <td>1.0</td>\n",
       "      <td>1.0</td>\n",
       "      <td>...</td>\n",
       "      <td>1.0</td>\n",
       "      <td>0.0</td>\n",
       "      <td>2.0</td>\n",
       "      <td>0.0</td>\n",
       "      <td>0.0</td>\n",
       "      <td>0.0</td>\n",
       "      <td>0.0</td>\n",
       "      <td>11.0</td>\n",
       "      <td>3.0</td>\n",
       "      <td>6.0</td>\n",
       "    </tr>\n",
       "    <tr>\n",
       "      <th>2</th>\n",
       "      <td>0.0</td>\n",
       "      <td>1.0</td>\n",
       "      <td>1.0</td>\n",
       "      <td>1.0</td>\n",
       "      <td>24.0</td>\n",
       "      <td>0.0</td>\n",
       "      <td>0.0</td>\n",
       "      <td>0.0</td>\n",
       "      <td>1.0</td>\n",
       "      <td>1.0</td>\n",
       "      <td>...</td>\n",
       "      <td>1.0</td>\n",
       "      <td>0.0</td>\n",
       "      <td>2.0</td>\n",
       "      <td>3.0</td>\n",
       "      <td>0.0</td>\n",
       "      <td>0.0</td>\n",
       "      <td>0.0</td>\n",
       "      <td>11.0</td>\n",
       "      <td>5.0</td>\n",
       "      <td>4.0</td>\n",
       "    </tr>\n",
       "    <tr>\n",
       "      <th>5</th>\n",
       "      <td>0.0</td>\n",
       "      <td>1.0</td>\n",
       "      <td>1.0</td>\n",
       "      <td>1.0</td>\n",
       "      <td>25.0</td>\n",
       "      <td>1.0</td>\n",
       "      <td>0.0</td>\n",
       "      <td>0.0</td>\n",
       "      <td>1.0</td>\n",
       "      <td>0.0</td>\n",
       "      <td>...</td>\n",
       "      <td>1.0</td>\n",
       "      <td>0.0</td>\n",
       "      <td>3.0</td>\n",
       "      <td>0.0</td>\n",
       "      <td>0.0</td>\n",
       "      <td>1.0</td>\n",
       "      <td>0.0</td>\n",
       "      <td>11.0</td>\n",
       "      <td>4.0</td>\n",
       "      <td>4.0</td>\n",
       "    </tr>\n",
       "    <tr>\n",
       "      <th>6</th>\n",
       "      <td>0.0</td>\n",
       "      <td>0.0</td>\n",
       "      <td>0.0</td>\n",
       "      <td>1.0</td>\n",
       "      <td>24.0</td>\n",
       "      <td>0.0</td>\n",
       "      <td>0.0</td>\n",
       "      <td>0.0</td>\n",
       "      <td>0.0</td>\n",
       "      <td>0.0</td>\n",
       "      <td>...</td>\n",
       "      <td>1.0</td>\n",
       "      <td>0.0</td>\n",
       "      <td>2.0</td>\n",
       "      <td>0.0</td>\n",
       "      <td>0.0</td>\n",
       "      <td>0.0</td>\n",
       "      <td>1.0</td>\n",
       "      <td>8.0</td>\n",
       "      <td>4.0</td>\n",
       "      <td>3.0</td>\n",
       "    </tr>\n",
       "    <tr>\n",
       "      <th>7</th>\n",
       "      <td>1.0</td>\n",
       "      <td>0.0</td>\n",
       "      <td>0.0</td>\n",
       "      <td>1.0</td>\n",
       "      <td>25.0</td>\n",
       "      <td>1.0</td>\n",
       "      <td>0.0</td>\n",
       "      <td>0.0</td>\n",
       "      <td>1.0</td>\n",
       "      <td>1.0</td>\n",
       "      <td>...</td>\n",
       "      <td>1.0</td>\n",
       "      <td>0.0</td>\n",
       "      <td>3.0</td>\n",
       "      <td>0.0</td>\n",
       "      <td>0.0</td>\n",
       "      <td>0.0</td>\n",
       "      <td>1.0</td>\n",
       "      <td>13.0</td>\n",
       "      <td>6.0</td>\n",
       "      <td>8.0</td>\n",
       "    </tr>\n",
       "    <tr>\n",
       "      <th>...</th>\n",
       "      <td>...</td>\n",
       "      <td>...</td>\n",
       "      <td>...</td>\n",
       "      <td>...</td>\n",
       "      <td>...</td>\n",
       "      <td>...</td>\n",
       "      <td>...</td>\n",
       "      <td>...</td>\n",
       "      <td>...</td>\n",
       "      <td>...</td>\n",
       "      <td>...</td>\n",
       "      <td>...</td>\n",
       "      <td>...</td>\n",
       "      <td>...</td>\n",
       "      <td>...</td>\n",
       "      <td>...</td>\n",
       "      <td>...</td>\n",
       "      <td>...</td>\n",
       "      <td>...</td>\n",
       "      <td>...</td>\n",
       "      <td>...</td>\n",
       "    </tr>\n",
       "    <tr>\n",
       "      <th>206677</th>\n",
       "      <td>0.0</td>\n",
       "      <td>1.0</td>\n",
       "      <td>1.0</td>\n",
       "      <td>1.0</td>\n",
       "      <td>23.0</td>\n",
       "      <td>0.0</td>\n",
       "      <td>1.0</td>\n",
       "      <td>1.0</td>\n",
       "      <td>0.0</td>\n",
       "      <td>0.0</td>\n",
       "      <td>...</td>\n",
       "      <td>1.0</td>\n",
       "      <td>1.0</td>\n",
       "      <td>4.0</td>\n",
       "      <td>0.0</td>\n",
       "      <td>5.0</td>\n",
       "      <td>0.0</td>\n",
       "      <td>1.0</td>\n",
       "      <td>8.0</td>\n",
       "      <td>3.0</td>\n",
       "      <td>2.0</td>\n",
       "    </tr>\n",
       "    <tr>\n",
       "      <th>206678</th>\n",
       "      <td>0.0</td>\n",
       "      <td>1.0</td>\n",
       "      <td>0.0</td>\n",
       "      <td>1.0</td>\n",
       "      <td>30.0</td>\n",
       "      <td>1.0</td>\n",
       "      <td>0.0</td>\n",
       "      <td>1.0</td>\n",
       "      <td>1.0</td>\n",
       "      <td>1.0</td>\n",
       "      <td>...</td>\n",
       "      <td>1.0</td>\n",
       "      <td>0.0</td>\n",
       "      <td>3.0</td>\n",
       "      <td>0.0</td>\n",
       "      <td>0.0</td>\n",
       "      <td>0.0</td>\n",
       "      <td>1.0</td>\n",
       "      <td>12.0</td>\n",
       "      <td>2.0</td>\n",
       "      <td>1.0</td>\n",
       "    </tr>\n",
       "    <tr>\n",
       "      <th>206679</th>\n",
       "      <td>0.0</td>\n",
       "      <td>0.0</td>\n",
       "      <td>0.0</td>\n",
       "      <td>1.0</td>\n",
       "      <td>27.0</td>\n",
       "      <td>0.0</td>\n",
       "      <td>0.0</td>\n",
       "      <td>0.0</td>\n",
       "      <td>0.0</td>\n",
       "      <td>0.0</td>\n",
       "      <td>...</td>\n",
       "      <td>1.0</td>\n",
       "      <td>0.0</td>\n",
       "      <td>1.0</td>\n",
       "      <td>0.0</td>\n",
       "      <td>0.0</td>\n",
       "      <td>0.0</td>\n",
       "      <td>0.0</td>\n",
       "      <td>3.0</td>\n",
       "      <td>6.0</td>\n",
       "      <td>5.0</td>\n",
       "    </tr>\n",
       "    <tr>\n",
       "      <th>206680</th>\n",
       "      <td>1.0</td>\n",
       "      <td>1.0</td>\n",
       "      <td>1.0</td>\n",
       "      <td>1.0</td>\n",
       "      <td>18.0</td>\n",
       "      <td>0.0</td>\n",
       "      <td>0.0</td>\n",
       "      <td>0.0</td>\n",
       "      <td>0.0</td>\n",
       "      <td>0.0</td>\n",
       "      <td>...</td>\n",
       "      <td>1.0</td>\n",
       "      <td>0.0</td>\n",
       "      <td>4.0</td>\n",
       "      <td>0.0</td>\n",
       "      <td>0.0</td>\n",
       "      <td>1.0</td>\n",
       "      <td>0.0</td>\n",
       "      <td>11.0</td>\n",
       "      <td>2.0</td>\n",
       "      <td>4.0</td>\n",
       "    </tr>\n",
       "    <tr>\n",
       "      <th>206683</th>\n",
       "      <td>1.0</td>\n",
       "      <td>1.0</td>\n",
       "      <td>1.0</td>\n",
       "      <td>1.0</td>\n",
       "      <td>25.0</td>\n",
       "      <td>0.0</td>\n",
       "      <td>0.0</td>\n",
       "      <td>1.0</td>\n",
       "      <td>1.0</td>\n",
       "      <td>1.0</td>\n",
       "      <td>...</td>\n",
       "      <td>1.0</td>\n",
       "      <td>0.0</td>\n",
       "      <td>2.0</td>\n",
       "      <td>0.0</td>\n",
       "      <td>0.0</td>\n",
       "      <td>0.0</td>\n",
       "      <td>0.0</td>\n",
       "      <td>9.0</td>\n",
       "      <td>6.0</td>\n",
       "      <td>2.0</td>\n",
       "    </tr>\n",
       "  </tbody>\n",
       "</table>\n",
       "<p>106684 rows × 22 columns</p>\n",
       "</div>"
      ],
      "text/plain": [
       "        Diabetes_012  HighBP  HighChol  CholCheck   BMI  Smoker  Stroke  \\\n",
       "1                0.0     1.0       0.0        1.0  27.0     0.0     0.0   \n",
       "2                0.0     1.0       1.0        1.0  24.0     0.0     0.0   \n",
       "5                0.0     1.0       1.0        1.0  25.0     1.0     0.0   \n",
       "6                0.0     0.0       0.0        1.0  24.0     0.0     0.0   \n",
       "7                1.0     0.0       0.0        1.0  25.0     1.0     0.0   \n",
       "...              ...     ...       ...        ...   ...     ...     ...   \n",
       "206677           0.0     1.0       1.0        1.0  23.0     0.0     1.0   \n",
       "206678           0.0     1.0       0.0        1.0  30.0     1.0     0.0   \n",
       "206679           0.0     0.0       0.0        1.0  27.0     0.0     0.0   \n",
       "206680           1.0     1.0       1.0        1.0  18.0     0.0     0.0   \n",
       "206683           1.0     1.0       1.0        1.0  25.0     0.0     0.0   \n",
       "\n",
       "        HeartDiseaseorAttack  PhysActivity  Fruits  ...  AnyHealthcare  \\\n",
       "1                        0.0           1.0     1.0  ...            1.0   \n",
       "2                        0.0           1.0     1.0  ...            1.0   \n",
       "5                        0.0           1.0     0.0  ...            1.0   \n",
       "6                        0.0           0.0     0.0  ...            1.0   \n",
       "7                        0.0           1.0     1.0  ...            1.0   \n",
       "...                      ...           ...     ...  ...            ...   \n",
       "206677                   1.0           0.0     0.0  ...            1.0   \n",
       "206678                   1.0           1.0     1.0  ...            1.0   \n",
       "206679                   0.0           0.0     0.0  ...            1.0   \n",
       "206680                   0.0           0.0     0.0  ...            1.0   \n",
       "206683                   1.0           1.0     1.0  ...            1.0   \n",
       "\n",
       "        NoDocbcCost  GenHlth  MentHlth  PhysHlth  DiffWalk  Sex   Age  \\\n",
       "1               0.0      2.0       0.0       0.0       0.0  0.0  11.0   \n",
       "2               0.0      2.0       3.0       0.0       0.0  0.0  11.0   \n",
       "5               0.0      3.0       0.0       0.0       1.0  0.0  11.0   \n",
       "6               0.0      2.0       0.0       0.0       0.0  1.0   8.0   \n",
       "7               0.0      3.0       0.0       0.0       0.0  1.0  13.0   \n",
       "...             ...      ...       ...       ...       ...  ...   ...   \n",
       "206677          1.0      4.0       0.0       5.0       0.0  1.0   8.0   \n",
       "206678          0.0      3.0       0.0       0.0       0.0  1.0  12.0   \n",
       "206679          0.0      1.0       0.0       0.0       0.0  0.0   3.0   \n",
       "206680          0.0      4.0       0.0       0.0       1.0  0.0  11.0   \n",
       "206683          0.0      2.0       0.0       0.0       0.0  0.0   9.0   \n",
       "\n",
       "        Education  Income  \n",
       "1             3.0     6.0  \n",
       "2             5.0     4.0  \n",
       "5             4.0     4.0  \n",
       "6             4.0     3.0  \n",
       "7             6.0     8.0  \n",
       "...           ...     ...  \n",
       "206677        3.0     2.0  \n",
       "206678        2.0     1.0  \n",
       "206679        6.0     5.0  \n",
       "206680        2.0     4.0  \n",
       "206683        6.0     2.0  \n",
       "\n",
       "[106684 rows x 22 columns]"
      ]
     },
     "execution_count": 7,
     "metadata": {},
     "output_type": "execute_result"
    }
   ],
   "source": [
    "df"
   ]
  },
  {
   "cell_type": "markdown",
   "id": "f9eb9a9c",
   "metadata": {},
   "source": [
    "Transform the necessary columns to categorical "
   ]
  },
  {
   "cell_type": "code",
   "execution_count": 8,
   "id": "f0f56c03",
   "metadata": {},
   "outputs": [],
   "source": [
    "df['Diabetes_012']=df['Diabetes_012'].astype('category').cat.codes\n",
    "df['HighBP']=df['HighBP'].astype('category').cat.codes\n",
    "df['HighChol']=df['HighChol'].astype('category').cat.codes\n",
    "df['CholCheck']=df['CholCheck'].astype('category').cat.codes\n",
    "df['Smoker']=df['Smoker'].astype('category').cat.codes\n",
    "df['Stroke']=df['Stroke'].astype('category').cat.codes\n",
    "df['HeartDiseaseorAttack']=df['HeartDiseaseorAttack'].astype('category').cat.codes\n",
    "df['PhysActivity']=df['PhysActivity'].astype('category').cat.codes\n",
    "df['Fruits']=df['Fruits'].astype('category').cat.codes\n",
    "df['Veggies']=df['Veggies'].astype('category').cat.codes\n",
    "df['HvyAlcoholConsump']=df['HvyAlcoholConsump'].astype('category').cat.codes\n",
    "df['AnyHealthcare']=df['AnyHealthcare'].astype('category').cat.codes\n",
    "df['NoDocbcCost']=df['NoDocbcCost'].astype('category').cat.codes\n",
    "df['DiffWalk']=df['DiffWalk'].astype('category').cat.codes\n",
    "df['Sex']=df['Sex'].astype('category').cat.codes\n"
   ]
  },
  {
   "cell_type": "markdown",
   "id": "4e91618a",
   "metadata": {},
   "source": [
    "Split the dataset into training and test set "
   ]
  },
  {
   "cell_type": "code",
   "execution_count": 9,
   "id": "c7675d3a",
   "metadata": {},
   "outputs": [],
   "source": [
    "train,test= np.split(df.sample (frac=1), [int (0.8 * len (df))])"
   ]
  },
  {
   "cell_type": "markdown",
   "id": "bda813bc",
   "metadata": {},
   "source": [
    "Uploading the training and test sets to S3 bucket "
   ]
  },
  {
   "cell_type": "code",
   "execution_count": 10,
   "id": "20a13b68",
   "metadata": {},
   "outputs": [],
   "source": [
    "train.to_csv('train.csv',header=False, index=False) \n",
    "test.to_csv('test.csv',header=False, index= False)"
   ]
  },
  {
   "cell_type": "code",
   "execution_count": 11,
   "id": "99ecf37c",
   "metadata": {},
   "outputs": [],
   "source": [
    "bucket = \"diabetes-prediction-b12\"\n",
    "\n",
    "boto3.Session().resource ('s3').Bucket(\"diabetes-prediction-b12\").Object(os.path.join(prefix, 'train/train.csv')).upload_file('train.csv')\n",
    "boto3.Session().resource ('s3').Bucket(\"diabetes-prediction-b12\").Object(os.path.join(prefix, 'test/test.csv' )).upload_file('test.csv')\n"
   ]
  },
  {
   "cell_type": "markdown",
   "id": "6baa15ab",
   "metadata": {},
   "source": [
    "Import the the training and test sets from S3 for the model "
   ]
  },
  {
   "cell_type": "code",
   "execution_count": 12,
   "id": "e93a2a11",
   "metadata": {},
   "outputs": [],
   "source": [
    "from sagemaker.inputs import TrainingInput\n",
    "bucket = \"diabetes-prediction-b12\"\n",
    "\n",
    "s3_train_data=TrainingInput(s3_data='s3://{}/{}/train'.format(bucket,prefix),content_type= \"csv\")\n",
    "s3_test_data=TrainingInput(s3_data='s3://{}/{}/test'.format(bucket,prefix),content_type= \"csv\")"
   ]
  },
  {
   "cell_type": "markdown",
   "id": "2cc4eb1a",
   "metadata": {},
   "source": [
    "Import the built-in XGboost model from Sagemaker"
   ]
  },
  {
   "cell_type": "code",
   "execution_count": 13,
   "id": "6c4f153a",
   "metadata": {},
   "outputs": [
    {
     "name": "stdout",
     "output_type": "stream",
     "text": [
      "813361260812.dkr.ecr.eu-central-1.amazonaws.com/xgboost:latest\n"
     ]
    }
   ],
   "source": [
    "xgboost_container = sagemaker.image_uris.retrieve (\"xgboost\", boto3.Session().region_name, \"latest\")\n",
    "print(xgboost_container)\n"
   ]
  },
  {
   "cell_type": "markdown",
   "id": "82cb0b45",
   "metadata": {},
   "source": [
    "The output bucket where the final model will be exported to"
   ]
  },
  {
   "cell_type": "code",
   "execution_count": 14,
   "id": "be67548a",
   "metadata": {},
   "outputs": [],
   "source": [
    "output_location='s3://{}/{}/output'.format(bucket,prefix)\n"
   ]
  },
  {
   "cell_type": "markdown",
   "id": "f6e4e140",
   "metadata": {},
   "source": [
    "**Fine tuning of hyper parameters of the XGBoost Model**\n"
   ]
  },
  {
   "cell_type": "code",
   "execution_count": 15,
   "id": "82953ac6",
   "metadata": {},
   "outputs": [],
   "source": [
    "sess=sagemaker.Session()\n",
    "role=sagemaker.get_execution_role()\n",
    "# construct a SageMaker estimator that calls the xgboost-container\n",
    "xgboost= sagemaker.estimator.Estimator(xgboost_container,\n",
    "                                       role,\n",
    "                                       instance_count=1,\n",
    "                                       instance_type = \"ml.m4.xlarge\",\n",
    "                                       output_path = output_location, sagemaker_session = sess)\n",
    "xgboost.set_hyperparameters (gamme='4',\n",
    "                             min_child_weight = \"6\",\n",
    "                             subsample = \"0.7\",\n",
    "                             objective = \"binary:logistic\",\n",
    "                             num_round = \"50\")"
   ]
  },
  {
   "cell_type": "markdown",
   "id": "1e749b7e",
   "metadata": {},
   "source": [
    "**Training an XGBoost model using the training data stored in an S3 bucket, and evaluating the performance of the trained model on a validation set**"
   ]
  },
  {
   "cell_type": "code",
   "execution_count": 16,
   "id": "04c7d8f7",
   "metadata": {},
   "outputs": [
    {
     "name": "stderr",
     "output_type": "stream",
     "text": [
      "INFO:sagemaker:Creating training-job with name: xgboost-2023-03-10-12-26-26-617\n"
     ]
    },
    {
     "name": "stdout",
     "output_type": "stream",
     "text": [
      "2023-03-10 12:26:26 Starting - Starting the training job...\n",
      "2023-03-10 12:26:42 Starting - Preparing the instances for training......\n",
      "2023-03-10 12:27:42 Downloading - Downloading input data...\n",
      "2023-03-10 12:28:06 Training - Downloading the training image...\n",
      "2023-03-10 12:28:57 Training - Training image download completed. Training in progress...\u001b[34mArguments: train\u001b[0m\n",
      "\u001b[34m[2023-03-10:12:29:08:INFO] Running standalone xgboost training.\u001b[0m\n",
      "\u001b[34m[2023-03-10:12:29:08:INFO] File size need to be processed in the node: 6.06mb. Available memory size in the node: 8605.66mb\u001b[0m\n",
      "\u001b[34m[2023-03-10:12:29:08:INFO] Determined delimiter of CSV input is ','\u001b[0m\n",
      "\u001b[34m[12:29:08] S3DistributionType set as FullyReplicated\u001b[0m\n",
      "\u001b[34m[12:29:08] 85347x21 matrix with 1792287 entries loaded from /opt/ml/input/data/train?format=csv&label_column=0&delimiter=,\u001b[0m\n",
      "\u001b[34m[2023-03-10:12:29:08:INFO] Determined delimiter of CSV input is ','\u001b[0m\n",
      "\u001b[34m[12:29:08] S3DistributionType set as FullyReplicated\u001b[0m\n",
      "\u001b[34m[12:29:08] 21337x21 matrix with 448077 entries loaded from /opt/ml/input/data/validation?format=csv&label_column=0&delimiter=,\u001b[0m\n",
      "\u001b[34m[12:29:08] src/tree/updater_prune.cc:74: tree pruning end, 1 roots, 126 extra nodes, 0 pruned nodes, max_depth=6\u001b[0m\n",
      "\u001b[34m[0]#011train-error:0.217043#011validation-error:0.219572\u001b[0m\n",
      "\u001b[34m[12:29:08] src/tree/updater_prune.cc:74: tree pruning end, 1 roots, 122 extra nodes, 0 pruned nodes, max_depth=6\u001b[0m\n",
      "\u001b[34m[1]#011train-error:0.215755#011validation-error:0.216806\u001b[0m\n",
      "\u001b[34m[12:29:09] src/tree/updater_prune.cc:74: tree pruning end, 1 roots, 124 extra nodes, 0 pruned nodes, max_depth=6\u001b[0m\n",
      "\u001b[34m[2]#011train-error:0.213388#011validation-error:0.2154\u001b[0m\n",
      "\u001b[34m[12:29:09] src/tree/updater_prune.cc:74: tree pruning end, 1 roots, 114 extra nodes, 0 pruned nodes, max_depth=6\u001b[0m\n",
      "\u001b[34m[3]#011train-error:0.212579#011validation-error:0.215775\u001b[0m\n",
      "\u001b[34m[12:29:09] src/tree/updater_prune.cc:74: tree pruning end, 1 roots, 122 extra nodes, 0 pruned nodes, max_depth=6\u001b[0m\n",
      "\u001b[34m[4]#011train-error:0.211724#011validation-error:0.214651\u001b[0m\n",
      "\u001b[34m[12:29:09] src/tree/updater_prune.cc:74: tree pruning end, 1 roots, 112 extra nodes, 0 pruned nodes, max_depth=6\u001b[0m\n",
      "\u001b[34m[5]#011train-error:0.210658#011validation-error:0.21376\u001b[0m\n",
      "\u001b[34m[12:29:09] src/tree/updater_prune.cc:74: tree pruning end, 1 roots, 106 extra nodes, 0 pruned nodes, max_depth=6\u001b[0m\n",
      "\u001b[34m[6]#011train-error:0.210587#011validation-error:0.213713\u001b[0m\n",
      "\u001b[34m[12:29:09] src/tree/updater_prune.cc:74: tree pruning end, 1 roots, 112 extra nodes, 0 pruned nodes, max_depth=6\u001b[0m\n",
      "\u001b[34m[7]#011train-error:0.209662#011validation-error:0.214463\u001b[0m\n",
      "\u001b[34m[12:29:09] src/tree/updater_prune.cc:74: tree pruning end, 1 roots, 98 extra nodes, 0 pruned nodes, max_depth=6\u001b[0m\n",
      "\u001b[34m[8]#011train-error:0.208678#011validation-error:0.213807\u001b[0m\n",
      "\u001b[34m[12:29:09] src/tree/updater_prune.cc:74: tree pruning end, 1 roots, 108 extra nodes, 0 pruned nodes, max_depth=6\u001b[0m\n",
      "\u001b[34m[9]#011train-error:0.208689#011validation-error:0.213901\u001b[0m\n",
      "\u001b[34m[12:29:09] src/tree/updater_prune.cc:74: tree pruning end, 1 roots, 84 extra nodes, 0 pruned nodes, max_depth=6\u001b[0m\n",
      "\u001b[34m[10]#011train-error:0.20781#011validation-error:0.212307\u001b[0m\n",
      "\u001b[34m[12:29:09] src/tree/updater_prune.cc:74: tree pruning end, 1 roots, 106 extra nodes, 0 pruned nodes, max_depth=6\u001b[0m\n",
      "\u001b[34m[11]#011train-error:0.207588#011validation-error:0.211932\u001b[0m\n",
      "\u001b[34m[12:29:09] src/tree/updater_prune.cc:74: tree pruning end, 1 roots, 84 extra nodes, 0 pruned nodes, max_depth=6\u001b[0m\n",
      "\u001b[34m[12]#011train-error:0.207283#011validation-error:0.211464\u001b[0m\n",
      "\u001b[34m[12:29:09] src/tree/updater_prune.cc:74: tree pruning end, 1 roots, 66 extra nodes, 0 pruned nodes, max_depth=6\u001b[0m\n",
      "\u001b[34m[13]#011train-error:0.206803#011validation-error:0.211792\u001b[0m\n",
      "\u001b[34m[12:29:09] src/tree/updater_prune.cc:74: tree pruning end, 1 roots, 90 extra nodes, 0 pruned nodes, max_depth=6\u001b[0m\n",
      "\u001b[34m[14]#011train-error:0.206709#011validation-error:0.211745\u001b[0m\n",
      "\u001b[34m[12:29:09] src/tree/updater_prune.cc:74: tree pruning end, 1 roots, 94 extra nodes, 0 pruned nodes, max_depth=6\u001b[0m\n",
      "\u001b[34m[15]#011train-error:0.206205#011validation-error:0.211651\u001b[0m\n",
      "\u001b[34m[12:29:09] src/tree/updater_prune.cc:74: tree pruning end, 1 roots, 92 extra nodes, 0 pruned nodes, max_depth=6\u001b[0m\n",
      "\u001b[34m[16]#011train-error:0.205561#011validation-error:0.211604\u001b[0m\n",
      "\u001b[34m[12:29:10] src/tree/updater_prune.cc:74: tree pruning end, 1 roots, 80 extra nodes, 0 pruned nodes, max_depth=6\u001b[0m\n",
      "\u001b[34m[17]#011train-error:0.205326#011validation-error:0.210667\u001b[0m\n",
      "\u001b[34m[12:29:10] src/tree/updater_prune.cc:74: tree pruning end, 1 roots, 86 extra nodes, 0 pruned nodes, max_depth=6\u001b[0m\n",
      "\u001b[34m[18]#011train-error:0.205491#011validation-error:0.211979\u001b[0m\n",
      "\u001b[34m[12:29:10] src/tree/updater_prune.cc:74: tree pruning end, 1 roots, 84 extra nodes, 0 pruned nodes, max_depth=6\u001b[0m\n",
      "\u001b[34m[19]#011train-error:0.205198#011validation-error:0.211792\u001b[0m\n",
      "\u001b[34m[12:29:10] src/tree/updater_prune.cc:74: tree pruning end, 1 roots, 96 extra nodes, 0 pruned nodes, max_depth=6\u001b[0m\n",
      "\u001b[34m[20]#011train-error:0.204963#011validation-error:0.211604\u001b[0m\n",
      "\u001b[34m[12:29:10] src/tree/updater_prune.cc:74: tree pruning end, 1 roots, 116 extra nodes, 0 pruned nodes, max_depth=6\u001b[0m\n",
      "\u001b[34m[21]#011train-error:0.204553#011validation-error:0.211323\u001b[0m\n",
      "\u001b[34m[12:29:10] src/tree/updater_prune.cc:74: tree pruning end, 1 roots, 84 extra nodes, 0 pruned nodes, max_depth=6\u001b[0m\n",
      "\u001b[34m[22]#011train-error:0.204424#011validation-error:0.211464\u001b[0m\n",
      "\u001b[34m[12:29:10] src/tree/updater_prune.cc:74: tree pruning end, 1 roots, 96 extra nodes, 0 pruned nodes, max_depth=6\u001b[0m\n",
      "\u001b[34m[23]#011train-error:0.203932#011validation-error:0.211323\u001b[0m\n",
      "\u001b[34m[12:29:10] src/tree/updater_prune.cc:74: tree pruning end, 1 roots, 92 extra nodes, 0 pruned nodes, max_depth=6\u001b[0m\n",
      "\u001b[34m[24]#011train-error:0.203393#011validation-error:0.210761\u001b[0m\n",
      "\u001b[34m[12:29:10] src/tree/updater_prune.cc:74: tree pruning end, 1 roots, 94 extra nodes, 0 pruned nodes, max_depth=6\u001b[0m\n",
      "\u001b[34m[25]#011train-error:0.202901#011validation-error:0.211182\u001b[0m\n",
      "\u001b[34m[12:29:10] src/tree/updater_prune.cc:74: tree pruning end, 1 roots, 94 extra nodes, 0 pruned nodes, max_depth=6\u001b[0m\n",
      "\u001b[34m[26]#011train-error:0.202386#011validation-error:0.211042\u001b[0m\n",
      "\u001b[34m[12:29:10] src/tree/updater_prune.cc:74: tree pruning end, 1 roots, 80 extra nodes, 0 pruned nodes, max_depth=6\u001b[0m\n",
      "\u001b[34m[27]#011train-error:0.20235#011validation-error:0.211089\u001b[0m\n",
      "\u001b[34m[12:29:11] src/tree/updater_prune.cc:74: tree pruning end, 1 roots, 96 extra nodes, 0 pruned nodes, max_depth=6\u001b[0m\n",
      "\u001b[34m[28]#011train-error:0.201905#011validation-error:0.210854\u001b[0m\n",
      "\u001b[34m[12:29:11] src/tree/updater_prune.cc:74: tree pruning end, 1 roots, 88 extra nodes, 0 pruned nodes, max_depth=6\u001b[0m\n",
      "\u001b[34m[29]#011train-error:0.201694#011validation-error:0.211229\u001b[0m\n",
      "\u001b[34m[12:29:11] src/tree/updater_prune.cc:74: tree pruning end, 1 roots, 106 extra nodes, 0 pruned nodes, max_depth=6\u001b[0m\n",
      "\u001b[34m[30]#011train-error:0.201378#011validation-error:0.211885\u001b[0m\n",
      "\u001b[34m[12:29:11] src/tree/updater_prune.cc:74: tree pruning end, 1 roots, 66 extra nodes, 0 pruned nodes, max_depth=6\u001b[0m\n",
      "\u001b[34m[31]#011train-error:0.200956#011validation-error:0.212214\u001b[0m\n",
      "\u001b[34m[12:29:11] src/tree/updater_prune.cc:74: tree pruning end, 1 roots, 112 extra nodes, 0 pruned nodes, max_depth=6\u001b[0m\n",
      "\u001b[34m[32]#011train-error:0.20078#011validation-error:0.21226\u001b[0m\n",
      "\u001b[34m[12:29:11] src/tree/updater_prune.cc:74: tree pruning end, 1 roots, 76 extra nodes, 0 pruned nodes, max_depth=6\u001b[0m\n",
      "\u001b[34m[33]#011train-error:0.200605#011validation-error:0.212776\u001b[0m\n",
      "\u001b[34m[12:29:11] src/tree/updater_prune.cc:74: tree pruning end, 1 roots, 74 extra nodes, 0 pruned nodes, max_depth=6\u001b[0m\n",
      "\u001b[34m[34]#011train-error:0.200487#011validation-error:0.212823\u001b[0m\n",
      "\u001b[34m[12:29:11] src/tree/updater_prune.cc:74: tree pruning end, 1 roots, 118 extra nodes, 0 pruned nodes, max_depth=6\u001b[0m\n",
      "\u001b[34m[35]#011train-error:0.199925#011validation-error:0.212588\u001b[0m\n",
      "\u001b[34m[12:29:11] src/tree/updater_prune.cc:74: tree pruning end, 1 roots, 94 extra nodes, 0 pruned nodes, max_depth=6\u001b[0m\n",
      "\u001b[34m[36]#011train-error:0.19989#011validation-error:0.212729\u001b[0m\n",
      "\u001b[34m[12:29:11] src/tree/updater_prune.cc:74: tree pruning end, 1 roots, 96 extra nodes, 0 pruned nodes, max_depth=6\u001b[0m\n",
      "\u001b[34m[37]#011train-error:0.19948#011validation-error:0.212495\u001b[0m\n",
      "\u001b[34m[12:29:11] src/tree/updater_prune.cc:74: tree pruning end, 1 roots, 110 extra nodes, 0 pruned nodes, max_depth=6\u001b[0m\n",
      "\u001b[34m[38]#011train-error:0.198531#011validation-error:0.21376\u001b[0m\n",
      "\u001b[34m[12:29:12] src/tree/updater_prune.cc:74: tree pruning end, 1 roots, 84 extra nodes, 0 pruned nodes, max_depth=6\u001b[0m\n",
      "\u001b[34m[39]#011train-error:0.198039#011validation-error:0.213807\u001b[0m\n",
      "\u001b[34m[12:29:12] src/tree/updater_prune.cc:74: tree pruning end, 1 roots, 108 extra nodes, 0 pruned nodes, max_depth=6\u001b[0m\n",
      "\u001b[34m[40]#011train-error:0.198238#011validation-error:0.214135\u001b[0m\n",
      "\u001b[34m[12:29:12] src/tree/updater_prune.cc:74: tree pruning end, 1 roots, 100 extra nodes, 0 pruned nodes, max_depth=6\u001b[0m\n",
      "\u001b[34m[41]#011train-error:0.198015#011validation-error:0.214463\u001b[0m\n",
      "\u001b[34m[12:29:12] src/tree/updater_prune.cc:74: tree pruning end, 1 roots, 92 extra nodes, 0 pruned nodes, max_depth=6\u001b[0m\n",
      "\u001b[34m[42]#011train-error:0.197699#011validation-error:0.214041\u001b[0m\n",
      "\u001b[34m[12:29:12] src/tree/updater_prune.cc:74: tree pruning end, 1 roots, 102 extra nodes, 0 pruned nodes, max_depth=6\u001b[0m\n",
      "\u001b[34m[43]#011train-error:0.197371#011validation-error:0.214088\u001b[0m\n",
      "\u001b[34m[12:29:12] src/tree/updater_prune.cc:74: tree pruning end, 1 roots, 78 extra nodes, 0 pruned nodes, max_depth=6\u001b[0m\n",
      "\u001b[34m[44]#011train-error:0.197125#011validation-error:0.213994\u001b[0m\n",
      "\u001b[34m[12:29:12] src/tree/updater_prune.cc:74: tree pruning end, 1 roots, 118 extra nodes, 0 pruned nodes, max_depth=6\u001b[0m\n",
      "\u001b[34m[45]#011train-error:0.196129#011validation-error:0.214791\u001b[0m\n",
      "\u001b[34m[12:29:12] src/tree/updater_prune.cc:74: tree pruning end, 1 roots, 56 extra nodes, 0 pruned nodes, max_depth=6\u001b[0m\n",
      "\u001b[34m[46]#011train-error:0.196012#011validation-error:0.214557\u001b[0m\n",
      "\u001b[34m[12:29:12] src/tree/updater_prune.cc:74: tree pruning end, 1 roots, 92 extra nodes, 0 pruned nodes, max_depth=6\u001b[0m\n",
      "\u001b[34m[47]#011train-error:0.195836#011validation-error:0.214135\u001b[0m\n",
      "\u001b[34m[12:29:12] src/tree/updater_prune.cc:74: tree pruning end, 1 roots, 108 extra nodes, 0 pruned nodes, max_depth=6\u001b[0m\n",
      "\u001b[34m[48]#011train-error:0.196164#011validation-error:0.214135\u001b[0m\n",
      "\u001b[34m[12:29:12] src/tree/updater_prune.cc:74: tree pruning end, 1 roots, 76 extra nodes, 0 pruned nodes, max_depth=6\u001b[0m\n",
      "\u001b[34m[49]#011train-error:0.196#011validation-error:0.214557\u001b[0m\n",
      "\n",
      "2023-03-10 12:29:17 Uploading - Uploading generated training model\n",
      "2023-03-10 12:29:34 Completed - Training job completed\n",
      "Training seconds: 112\n",
      "Billable seconds: 112\n"
     ]
    }
   ],
   "source": [
    "xgboost.fit({'train':s3_train_data, 'validation': s3_test_data})"
   ]
  },
  {
   "cell_type": "markdown",
   "id": "e123276e",
   "metadata": {},
   "source": [
    "**Deploying the Machine Learning Model As Endpoints**"
   ]
  },
  {
   "cell_type": "code",
   "execution_count": 18,
   "id": "d76d4bca",
   "metadata": {},
   "outputs": [
    {
     "name": "stderr",
     "output_type": "stream",
     "text": [
      "INFO:sagemaker:Creating model with name: xgboost-2023-03-10-12-31-11-370\n",
      "INFO:sagemaker:Creating endpoint-config with name diabetes-12\n",
      "INFO:sagemaker:Creating endpoint with name diabetes-12\n"
     ]
    },
    {
     "name": "stdout",
     "output_type": "stream",
     "text": [
      "------!"
     ]
    }
   ],
   "source": [
    "#Deploy Machine Learning Model As Endpoints\n",
    "xgb_predictor = xgboost.deploy(initial_instance_count=1, instance_type='ml.m4.xlarge', endpoint_name='diabetes-12')\n"
   ]
  },
  {
   "cell_type": "markdown",
   "id": "f69e5e1c",
   "metadata": {},
   "source": [
    "**Prediction of the model**"
   ]
  },
  {
   "cell_type": "code",
   "execution_count": 19,
   "id": "deeebefc",
   "metadata": {},
   "outputs": [
    {
     "name": "stderr",
     "output_type": "stream",
     "text": [
      "WARNING:sagemaker.deprecations:The csv_serializer has been renamed in sagemaker>=2.\n",
      "See: https://sagemaker.readthedocs.io/en/stable/v2.html for details.\n"
     ]
    },
    {
     "name": "stdout",
     "output_type": "stream",
     "text": [
      "(21337,)\n"
     ]
    }
   ],
   "source": [
    "from sagemaker.predictor import csv_serializer\n",
    "test_data_array = test.drop([\"Diabetes_012\"], axis=1).values #load the data into an array\n",
    "xgb_predictor.serializer = csv_serializer # set the serializer type\n",
    "predictions = xgb_predictor.predict(test_data_array).decode('utf-8') # predict!\n",
    "predictions_array = np.fromstring(predictions[1:], sep=',') # and turn the prediction into an array\n",
    "print(predictions_array.shape)"
   ]
  },
  {
   "cell_type": "code",
   "execution_count": 20,
   "id": "c760846b",
   "metadata": {},
   "outputs": [
    {
     "data": {
      "text/plain": [
       "dict_keys(['endpoint_name', 'sagemaker_session', 'serializer', 'deserializer', '_endpoint_config_name', '_model_names', '_context'])"
      ]
     },
     "execution_count": 20,
     "metadata": {},
     "output_type": "execute_result"
    }
   ],
   "source": [
    "xgb_predictor.__dict__.keys()"
   ]
  },
  {
   "cell_type": "code",
   "execution_count": 21,
   "id": "83fa44b2",
   "metadata": {},
   "outputs": [
    {
     "data": {
      "text/plain": [
       "array([0.05133441, 0.55750173, 0.00496434, ..., 0.01770472, 0.23628007,\n",
       "       0.01394187])"
      ]
     },
     "execution_count": 21,
     "metadata": {},
     "output_type": "execute_result"
    }
   ],
   "source": [
    "predictions_array"
   ]
  },
  {
   "cell_type": "markdown",
   "id": "4e05da9e",
   "metadata": {},
   "source": [
    "**Creating the confusion Matrix**"
   ]
  },
  {
   "cell_type": "code",
   "execution_count": 2,
   "id": "96a9c274",
   "metadata": {},
   "outputs": [
    {
     "ename": "NameError",
     "evalue": "name 'pd' is not defined",
     "output_type": "error",
     "traceback": [
      "\u001b[0;31m---------------------------------------------------------------------------\u001b[0m",
      "\u001b[0;31mNameError\u001b[0m                                 Traceback (most recent call last)",
      "Input \u001b[0;32mIn [2]\u001b[0m, in \u001b[0;36m<cell line: 1>\u001b[0;34m()\u001b[0m\n\u001b[0;32m----> 1\u001b[0m cm \u001b[38;5;241m=\u001b[39m \u001b[43mpd\u001b[49m\u001b[38;5;241m.\u001b[39mcrosstab(index\u001b[38;5;241m=\u001b[39mtest[\u001b[38;5;124m\"\u001b[39m\u001b[38;5;124mDiabetes_012\u001b[39m\u001b[38;5;124m\"\u001b[39m], columns\u001b[38;5;241m=\u001b[39mnp\u001b[38;5;241m.\u001b[39mround(predictions_array), rownames\u001b[38;5;241m=\u001b[39m[\u001b[38;5;124m'\u001b[39m\u001b[38;5;124mObserved\u001b[39m\u001b[38;5;124m'\u001b[39m], colnames\u001b[38;5;241m=\u001b[39m[\u001b[38;5;124m'\u001b[39m\u001b[38;5;124mPredicted\u001b[39m\u001b[38;5;124m'\u001b[39m])\n\u001b[1;32m      2\u001b[0m tn \u001b[38;5;241m=\u001b[39m cm\u001b[38;5;241m.\u001b[39miloc[\u001b[38;5;241m0\u001b[39m,\u001b[38;5;241m0\u001b[39m]; fn \u001b[38;5;241m=\u001b[39m cm\u001b[38;5;241m.\u001b[39miloc[\u001b[38;5;241m1\u001b[39m,\u001b[38;5;241m0\u001b[39m]; tp \u001b[38;5;241m=\u001b[39m cm\u001b[38;5;241m.\u001b[39miloc[\u001b[38;5;241m1\u001b[39m,\u001b[38;5;241m1\u001b[39m]; fp \u001b[38;5;241m=\u001b[39m cm\u001b[38;5;241m.\u001b[39miloc[\u001b[38;5;241m0\u001b[39m,\u001b[38;5;241m1\u001b[39m]; p \u001b[38;5;241m=\u001b[39m (tp\u001b[38;5;241m+\u001b[39mtn)\u001b[38;5;241m/\u001b[39m(tp\u001b[38;5;241m+\u001b[39mtn\u001b[38;5;241m+\u001b[39mfp\u001b[38;5;241m+\u001b[39mfn)\u001b[38;5;241m*\u001b[39m\u001b[38;5;241m100\u001b[39m\n\u001b[1;32m      3\u001b[0m \u001b[38;5;28mprint\u001b[39m(\u001b[38;5;124m\"\u001b[39m\u001b[38;5;130;01m\\n\u001b[39;00m\u001b[38;5;132;01m{0:<20}\u001b[39;00m\u001b[38;5;132;01m{1:<4.1f}\u001b[39;00m\u001b[38;5;124m%\u001b[39m\u001b[38;5;130;01m\\n\u001b[39;00m\u001b[38;5;124m\"\u001b[39m\u001b[38;5;241m.\u001b[39mformat(\u001b[38;5;124m\"\u001b[39m\u001b[38;5;124mOverall Classification Rate: \u001b[39m\u001b[38;5;124m\"\u001b[39m, p))\n",
      "\u001b[0;31mNameError\u001b[0m: name 'pd' is not defined"
     ]
    }
   ],
   "source": [
    "cm = pd.crosstab(index=test[\"Diabetes_012\"], columns=np.round(predictions_array), rownames=['Observed'], colnames=['Predicted'])\n",
    "tn = cm.iloc[0,0]; fn = cm.iloc[1,0]; tp = cm.iloc[1,1]; fp = cm.iloc[0,1]; p = (tp+tn)/(tp+tn+fp+fn)*100\n",
    "print(\"\\n{0:<20}{1:<4.1f}%\\n\".format(\"Overall Classification Rate: \", p))\n",
    "print(\"{0:<15}{1:<15}{2:>8}\".format(\"Predicted\", \"No Diabetes\", \"Diabetes\"))\n",
    "print(\"Observed\")\n",
    "print(\"{0:<15}{1:<2.0f}% ({2:<}){3:>6.0f}% ({4:<})\".format(\"No Diabetes\", fn/(tn+fn)*100,fn, tp/(tp+fp)*100, tp))\n",
    "print(\"{0:<16}{1:<1.0f}% ({2:<}){3:>7.0f}% ({4:<}) \\n\".format(\"Diabetes\", tn/(tn+fn)*100,tn, fp/(tp+fp)*100, fp))\n",
    "     "
   ]
  },
  {
   "cell_type": "markdown",
   "id": "56e86fa4",
   "metadata": {},
   "source": [
    "**Invoking the end point**"
   ]
  },
  {
   "cell_type": "code",
   "execution_count": 23,
   "id": "451e6525",
   "metadata": {},
   "outputs": [
    {
     "name": "stderr",
     "output_type": "stream",
     "text": [
      "INFO:botocore.credentials:Found credentials from IAM Role: BaseNotebookInstanceEc2InstanceRole\n"
     ]
    }
   ],
   "source": [
    "sm_runtime = boto3.client(\"runtime.sagemaker\")\n",
    "endpoint_name = \"diabetes-12\"\n"
   ]
  },
  {
   "cell_type": "markdown",
   "id": "9f314e00",
   "metadata": {},
   "source": [
    "**Prediction of Diabetes Probability with different instances**"
   ]
  },
  {
   "cell_type": "code",
   "execution_count": 26,
   "id": "51255e83",
   "metadata": {},
   "outputs": [],
   "source": [
    "payload = \"0, 0, 0, 25.6, 1, 0, 0, 1, 1, 1, 0, 1, 0, 3, 2, 10, 1, 1, 9, 4, 4\"\n",
    "\n",
    "response = sm_runtime.invoke_endpoint(\n",
    "    EndpointName=endpoint_name,\n",
    "    ContentType=\"text/csv\",\n",
    "    Body=payload\n",
    ")\n",
    "\n",
    "response_str_1 = response[\"Body\"].read().decode()"
   ]
  },
  {
   "cell_type": "code",
   "execution_count": 27,
   "id": "10e62f0c",
   "metadata": {},
   "outputs": [
    {
     "name": "stdout",
     "output_type": "stream",
     "text": [
      "0.1531713604927063\n"
     ]
    }
   ],
   "source": [
    "print(response_str_1)"
   ]
  },
  {
   "cell_type": "code",
   "execution_count": 29,
   "id": "9111d934",
   "metadata": {},
   "outputs": [],
   "source": [
    "payload = \"0, 0, 1, 21.5, 0, 0, 0, 1, 1, 1, 1, 1, 0, 4, 6, 7, 1, 0, 9, 4, 4\"\n",
    "\n",
    "response = sm_runtime.invoke_endpoint(\n",
    "    EndpointName=endpoint_name,\n",
    "    ContentType=\"text/csv\",\n",
    "    Body=payload\n",
    ")\n",
    "\n",
    "response_str_2 = response[\"Body\"].read().decode()"
   ]
  },
  {
   "cell_type": "code",
   "execution_count": 31,
   "id": "2eaee069",
   "metadata": {},
   "outputs": [
    {
     "name": "stdout",
     "output_type": "stream",
     "text": [
      "0.10756269097328186\n"
     ]
    }
   ],
   "source": [
    "print(response_str_2)"
   ]
  },
  {
   "cell_type": "code",
   "execution_count": 32,
   "id": "c27b128e",
   "metadata": {},
   "outputs": [],
   "source": [
    "payload = \"0,0,0,31,1,0,0,1,1,1,0,1,0,3,8,15,1,0,25,6,5\"\n",
    "\n",
    "response = sm_runtime.invoke_endpoint(\n",
    "    EndpointName=endpoint_name,\n",
    "    ContentType=\"text/csv\",\n",
    "    Body=payload\n",
    ")\n",
    "\n",
    "response_str_3 = response[\"Body\"].read().decode()\n"
   ]
  },
  {
   "cell_type": "code",
   "execution_count": 34,
   "id": "c0abbe99",
   "metadata": {},
   "outputs": [
    {
     "name": "stdout",
     "output_type": "stream",
     "text": [
      "0.041493646800518036\n"
     ]
    }
   ],
   "source": [
    "print(response_str_3)"
   ]
  }
 ],
 "metadata": {
  "kernelspec": {
   "display_name": "Python 3 (ipykernel)",
   "language": "python",
   "name": "python3"
  },
  "language_info": {
   "codemirror_mode": {
    "name": "ipython",
    "version": 3
   },
   "file_extension": ".py",
   "mimetype": "text/x-python",
   "name": "python",
   "nbconvert_exporter": "python",
   "pygments_lexer": "ipython3",
   "version": "3.9.12"
  }
 },
 "nbformat": 4,
 "nbformat_minor": 5
}
